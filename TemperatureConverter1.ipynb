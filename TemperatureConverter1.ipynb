{
  "nbformat": 4,
  "nbformat_minor": 0,
  "metadata": {
    "colab": {
      "provenance": [],
      "authorship_tag": "ABX9TyNYJaFf6wkj89L+ivNLWc8D",
      "include_colab_link": true
    },
    "kernelspec": {
      "name": "python3",
      "display_name": "Python 3"
    },
    "language_info": {
      "name": "python"
    }
  },
  "cells": [
    {
      "cell_type": "markdown",
      "metadata": {
        "id": "view-in-github",
        "colab_type": "text"
      },
      "source": [
        "<a href=\"https://colab.research.google.com/github/hritikgupta1/Temperature_converter/blob/main/TemperatureConverter1.ipynb\" target=\"_parent\"><img src=\"https://colab.research.google.com/assets/colab-badge.svg\" alt=\"Open In Colab\"/></a>"
      ]
    },
    {
      "cell_type": "code",
      "execution_count": 1,
      "metadata": {
        "id": "n1QW4SabAy8S",
        "colab": {
          "base_uri": "https://localhost:8080/"
        },
        "outputId": "ae2add06-5c30-474d-f2af-c24346c65c52"
      },
      "outputs": [
        {
          "output_type": "stream",
          "name": "stdout",
          "text": [
            "Input the temperature you like to convert? (e.g., 45F, 102C etc.): 100C\n",
            "The temperature in Fahrenheit is 212 degrees.\n"
          ]
        }
      ],
      "source": [
        "temp = input(\"Input the temperature you like to convert? (e.g., 45F, 102C etc.): \")\n",
        "\n",
        "if(temp[:-1].isnumeric()):\n",
        "\n",
        "\n",
        "    degree = int(temp[:-1])\n",
        "\n",
        "    i_convention = temp[-1]\n",
        "\n",
        "\n",
        "    if i_convention.upper() == \"C\":\n",
        "        result = int(round((9 * degree) / 5 + 32))\n",
        "        o_convention = \"Fahrenheit\"\n",
        "        print(\"The temperature in\", o_convention, \"is\", result, \"degrees.\")\n",
        "    elif i_convention.upper() == \"F\":\n",
        "        result = int(round((degree - 32) * 5 / 9))\n",
        "        o_convention = \"Celsius\"\n",
        "        print(\"The temperature in\", o_convention, \"is\", result, \"degrees.\")\n",
        "    else:\n",
        "        print(\"Input proper convention.\")\n",
        "        quit()\n",
        "\n",
        "else:\n",
        "    print(\"Input proper temperature.\")"
      ]
    }
  ]
}